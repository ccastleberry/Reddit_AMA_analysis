{
 "cells": [
  {
   "cell_type": "markdown",
   "metadata": {},
   "source": [
    "# Reddit AMA analysis"
   ]
  },
  {
   "cell_type": "markdown",
   "metadata": {},
   "source": [
    "Analysis of [Reddit AMA](https://www.reddit.com/r/AMA/) data."
   ]
  },
  {
   "cell_type": "code",
   "execution_count": 20,
   "metadata": {},
   "outputs": [],
   "source": [
    "import pandas as pd\n",
    "import numpy as np\n",
    "import matplotlib.pyplot as plt\n",
    "import seaborn as sns\n",
    "import requests\n",
    "from pprint import pprint\n",
    "import json\n",
    "import praw"
   ]
  },
  {
   "cell_type": "code",
   "execution_count": 47,
   "metadata": {
    "collapsed": true
   },
   "outputs": [],
   "source": [
    "CLIENT_ID = r\"_H8_QW8_YMICWw\"\n",
    "CLIENT_SECRET = r\"-ALlI-ip7fLoaV1bWQLaHR54GSs\"\n",
    "USER_AGENT = r\"AMA Analysis\"\n",
    "MY_USERNAME = r\"TheGodfatherCC\"\n",
    "MY_PASS = r\"Caleb4182!\"\n",
    "REDIRECT_URI = r\"http://127.0.0.0:65010\""
   ]
  },
  {
   "cell_type": "code",
   "execution_count": null,
   "metadata": {
    "collapsed": true
   },
   "outputs": [],
   "source": []
  },
  {
   "cell_type": "code",
   "execution_count": 48,
   "metadata": {},
   "outputs": [],
   "source": [
    "reddit = praw.Reddit(client_id=CLIENT_ID,\n",
    "                     client_secret=CLIENT_SECRET,\n",
    "                     user_agent=USER_AGENT,\n",
    "                    username=MY_USERNAME,\n",
    "                    password=MY_PASS)"
   ]
  },
  {
   "cell_type": "code",
   "execution_count": 49,
   "metadata": {},
   "outputs": [
    {
     "name": "stdout",
     "output_type": "stream",
     "text": [
      "False\n"
     ]
    }
   ],
   "source": [
    "print(reddit.read_only)"
   ]
  },
  {
   "cell_type": "code",
   "execution_count": 50,
   "metadata": {},
   "outputs": [
    {
     "name": "stdout",
     "output_type": "stream",
     "text": [
      "I just went to jail last month for the first time at age 42. Never been arrested before. AMA.\n",
      "I just got circumcised yesterday and I am 26 years old. AMA **informative special**\n",
      "Imma dude who lost 150 lbs through only diet and exercise. AMA\n",
      "I worked for McDonald's for over 4 years before I quit. AMA\n",
      "i have no Cognitive empathy and can't put myself in others shoes but i do have emotional empathy, AMA!\n",
      "[Request] Doug Jones' Campaign Staff\n",
      "[Request] A parent from Keaton Jones' class where he was allegedly getting bullied (for allegedly saying the 'N' Word)\n",
      "Change your comments to make my look like crazy AMA\n",
      "I'm stoned AMA\n",
      "Irish guy, former pizza boy now college student AMA\n"
     ]
    }
   ],
   "source": [
    "for submission in reddit.subreddit('AMA').hot(limit=10):\n",
    "    print(submission.title)"
   ]
  },
  {
   "cell_type": "code",
   "execution_count": 51,
   "metadata": {
    "collapsed": true
   },
   "outputs": [],
   "source": [
    "submission_iter = reddit.subreddit(\"AMA\").hot()"
   ]
  },
  {
   "cell_type": "code",
   "execution_count": 52,
   "metadata": {
    "collapsed": true
   },
   "outputs": [],
   "source": [
    "post_1 = submission_iter.next()"
   ]
  },
  {
   "cell_type": "code",
   "execution_count": 59,
   "metadata": {},
   "outputs": [
    {
     "data": {
      "text/plain": [
       "<bound method VotableMixin.downvote of Submission(id='7jkszs')>"
      ]
     },
     "execution_count": 59,
     "metadata": {},
     "output_type": "execute_result"
    }
   ],
   "source": [
    "post_1.downvote"
   ]
  },
  {
   "cell_type": "code",
   "execution_count": null,
   "metadata": {
    "collapsed": true
   },
   "outputs": [],
   "source": []
  }
 ],
 "metadata": {
  "kernelspec": {
   "display_name": "Python 3",
   "language": "python",
   "name": "python3"
  },
  "language_info": {
   "codemirror_mode": {
    "name": "ipython",
    "version": 3
   },
   "file_extension": ".py",
   "mimetype": "text/x-python",
   "name": "python",
   "nbconvert_exporter": "python",
   "pygments_lexer": "ipython3",
   "version": "3.6.3"
  },
  "toc": {
   "nav_menu": {},
   "number_sections": true,
   "sideBar": true,
   "skip_h1_title": false,
   "toc_cell": false,
   "toc_position": {},
   "toc_section_display": "block",
   "toc_window_display": false
  }
 },
 "nbformat": 4,
 "nbformat_minor": 2
}
